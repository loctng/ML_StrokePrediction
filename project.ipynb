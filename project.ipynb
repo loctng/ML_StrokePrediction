{
 "cells": [
  {
   "cell_type": "markdown",
   "metadata": {},
   "source": [
    "Data Processing:"
   ]
  },
  {
   "cell_type": "code",
   "execution_count": 5,
   "metadata": {},
   "outputs": [
    {
     "data": {
      "image/png": "[encoded data removed]",
      "text/plain": [
       "<Figure size 640x480 with 3 Axes>"
      ]
     },
     "metadata": {},
     "output_type": "display_data"
    },
    {
     "name": "stdout",
     "output_type": "stream",
     "text": [
      "   hypertension  heart_disease  stroke  gender_Female  gender_Male  married  \\\n",
      "0             0              1       1              0            1        1   \n",
      "1             1              1       1              0            1        1   \n",
      "2             0              0       1              1            0        0   \n",
      "3             0              0       1              1            0        1   \n",
      "4             1              0       1              1            0        1   \n",
      "\n",
      "   residence_urban  smoking_formerly  smoking_never  smoking_yes       age  \\\n",
      "0                0                 0              1            0  1.756023   \n",
      "1                0                 0              1            0  1.488655   \n",
      "2                1                 0              1            0  1.265849   \n",
      "3                1                 0              0            0  1.666900   \n",
      "4                0                 0              1            0  1.800584   \n",
      "\n",
      "   avg_glucose_level       bmi  \n",
      "0           0.634200  0.697348  \n",
      "1          -0.943354 -0.061452  \n",
      "2           0.126547 -0.745861  \n",
      "3          -1.450566 -0.537562  \n",
      "4          -0.488096  0.280752  \n"
     ]
    }
   ],
   "source": [
    "import pandas as pd\n",
    "import numpy as np\n",
    "import matplotlib.pyplot as plt\n",
    "from sklearn.preprocessing import StandardScaler\n",
    "  \n",
    "def removeOutliers(data, features):\n",
    "  # Visualize outliers with boxplot\n",
    "  for i, feature in enumerate(features, 1):\n",
    "    plt.subplot(1,len(features),i)\n",
    "    data[[feature]].boxplot()\n",
    "  plt.show()\n",
    "  \n",
    "  # Find the index of observations to be removed\n",
    "  removeIdx = pd.Series([False] * len(data))\n",
    "  for feature in features:\n",
    "    # Find the min and max value range of each feature\n",
    "    q1 = data[feature].quantile(0.25)\n",
    "    q3 = data[feature].quantile(0.75)\n",
    "    min = q1 - 1.5 * (q3 - q1)\n",
    "    max = q3 + 1.5 * (q3 - q1)\n",
    "    \n",
    "    outliers_lower = data[feature] < min\n",
    "    outliers_upper = data[feature] > max\n",
    "    \n",
    "    removeIdx = removeIdx | outliers_lower | outliers_upper\n",
    "\n",
    "  return data.loc[~removeIdx]\n",
    "\n",
    "\n",
    "data = pd.read_csv('healthcare-dataset-stroke-data.csv')\n",
    "\n",
    "# Clean missing values, which only appear in BMI column\n",
    "noBMI = np.isnan(data[\"bmi\"])\n",
    "data = data.loc[~noBMI]\n",
    "data = data.reset_index(drop=True)\n",
    "\n",
    "# Remove outliers\n",
    "data = removeOutliers(data, [\"age\", \"avg_glucose_level\", \"bmi\"])\n",
    "data = data.reset_index(drop=True)\n",
    "\n",
    "# Drop unnecessary features\n",
    "data = data.drop(columns=[\"id\", \"work_type\"])\n",
    "\n",
    "# One-hot-encoding some features\n",
    "data = pd.get_dummies(data, columns=[\"gender\", \"ever_married\", \"Residence_type\", \"smoking_status\"], dtype=int)\n",
    "data = data.drop(columns=[\"gender_Other\", \"ever_married_No\", \"Residence_type_Rural\", \"smoking_status_Unknown\"])\n",
    "data = data.rename(\n",
    "  columns={\"ever_married_Yes\": \"married\", \n",
    "           \"Residence_type_Urban\": \"residence_urban\",\n",
    "           \"smoking_status_formerly smoked\": \"smoking_formerly\",\n",
    "           \"smoking_status_never smoked\": \"smoking_never\",\n",
    "           \"smoking_status_smokes\": \"smoking_yes\"\n",
    "          }\n",
    ")\n",
    "\n",
    "# Standardize numerical features\n",
    "numerical_features = [\"age\", \"avg_glucose_level\", \"bmi\"]\n",
    "numerical_values = data[numerical_features]\n",
    "scaler = StandardScaler()\n",
    "numerical_values = scaler.fit_transform(numerical_values)\n",
    "numerical_values = pd.DataFrame(numerical_values)\n",
    "numerical_values.columns = numerical_features\n",
    "\n",
    "data = data.drop(columns=numerical_features)\n",
    "data = pd.concat([data, numerical_values], axis=1)\n",
    "\n",
    "print(data.head())"
   ]
  },
  {
   "cell_type": "markdown",
   "metadata": {},
   "source": [
    "Implementing Neural Network model with Grid Search:"
   ]
  },
  {
   "cell_type": "code",
   "execution_count": 6,
   "metadata": {},
   "outputs": [
    {
     "name": "stdout",
     "output_type": "stream",
     "text": [
      "Trial 8 Complete [00h 00m 04s]\n",
      "val_accuracy: 0.9648093581199646\n",
      "\n",
      "Best val_accuracy So Far: 0.9648093581199646\n",
      "Total elapsed time: 00h 00m 29s\n"
     ]
    },
    {
     "name": "stderr",
     "output_type": "stream",
     "text": [
      "c:\\Users\\locng\\AppData\\Local\\Programs\\Python\\Python312\\Lib\\site-packages\\keras\\src\\saving\\saving_lib.py:719: UserWarning: Skipping variable loading for optimizer 'adam', because it has 2 variables whereas the saved optimizer has 10 variables. \n",
      "  saveable.load_own_variables(weights_store.get(inner_path))\n"
     ]
    },
    {
     "data": {
      "text/html": [
       "<pre style=\"white-space:pre;overflow-x:auto;line-height:normal;font-family:Menlo,'DejaVu Sans Mono',consolas,'Courier New',monospace\"><span style=\"font-weight: bold\">Model: \"sequential\"</span>\n",
       "</pre>\n"
      ],
      "text/plain": [
       "\u001b[1mModel: \"sequential\"\u001b[0m\n"
      ]
     },
     "metadata": {},
     "output_type": "display_data"
    },
    {
     "data": {
      "text/html": [
       "<pre style=\"white-space:pre;overflow-x:auto;line-height:normal;font-family:Menlo,'DejaVu Sans Mono',consolas,'Courier New',monospace\">┏━━━━━━━━━━━━━━━━━━━━━━━━━━━━━━━━━┳━━━━━━━━━━━━━━━━━━━━━━━━┳━━━━━━━━━━━━━━━┓\n",
       "┃<span style=\"font-weight: bold\"> Layer (type)                    </span>┃<span style=\"font-weight: bold\"> Output Shape           </span>┃<span style=\"font-weight: bold\">       Param # </span>┃\n",
       "┡━━━━━━━━━━━━━━━━━━━━━━━━━━━━━━━━━╇━━━━━━━━━━━━━━━━━━━━━━━━╇━━━━━━━━━━━━━━━┩\n",
       "│ dense (<span style=\"color: #0087ff; text-decoration-color: #0087ff\">Dense</span>)                   │ (<span style=\"color: #00d7ff; text-decoration-color: #00d7ff\">None</span>, <span style=\"color: #00af00; text-decoration-color: #00af00\">16</span>)             │           <span style=\"color: #00af00; text-decoration-color: #00af00\">208</span> │\n",
       "├─────────────────────────────────┼────────────────────────┼───────────────┤\n",
       "│ dense_1 (<span style=\"color: #0087ff; text-decoration-color: #0087ff\">Dense</span>)                 │ (<span style=\"color: #00d7ff; text-decoration-color: #00d7ff\">None</span>, <span style=\"color: #00af00; text-decoration-color: #00af00\">2</span>)              │            <span style=\"color: #00af00; text-decoration-color: #00af00\">34</span> │\n",
       "└─────────────────────────────────┴────────────────────────┴───────────────┘\n",
       "</pre>\n"
      ],
      "text/plain": [
       "┏━━━━━━━━━━━━━━━━━━━━━━━━━━━━━━━━━┳━━━━━━━━━━━━━━━━━━━━━━━━┳━━━━━━━━━━━━━━━┓\n",
       "┃\u001b[1m \u001b[0m\u001b[1mLayer (type)                   \u001b[0m\u001b[1m \u001b[0m┃\u001b[1m \u001b[0m\u001b[1mOutput Shape          \u001b[0m\u001b[1m \u001b[0m┃\u001b[1m \u001b[0m\u001b[1m      Param #\u001b[0m\u001b[1m \u001b[0m┃\n",
       "┡━━━━━━━━━━━━━━━━━━━━━━━━━━━━━━━━━╇━━━━━━━━━━━━━━━━━━━━━━━━╇━━━━━━━━━━━━━━━┩\n",
       "│ dense (\u001b[38;5;33mDense\u001b[0m)                   │ (\u001b[38;5;45mNone\u001b[0m, \u001b[38;5;34m16\u001b[0m)             │           \u001b[38;5;34m208\u001b[0m │\n",
       "├─────────────────────────────────┼────────────────────────┼───────────────┤\n",
       "│ dense_1 (\u001b[38;5;33mDense\u001b[0m)                 │ (\u001b[38;5;45mNone\u001b[0m, \u001b[38;5;34m2\u001b[0m)              │            \u001b[38;5;34m34\u001b[0m │\n",
       "└─────────────────────────────────┴────────────────────────┴───────────────┘\n"
      ]
     },
     "metadata": {},
     "output_type": "display_data"
    },
    {
     "data": {
      "text/html": [
       "<pre style=\"white-space:pre;overflow-x:auto;line-height:normal;font-family:Menlo,'DejaVu Sans Mono',consolas,'Courier New',monospace\"><span style=\"font-weight: bold\"> Total params: </span><span style=\"color: #00af00; text-decoration-color: #00af00\">242</span> (968.00 B)\n",
       "</pre>\n"
      ],
      "text/plain": [
       "\u001b[1m Total params: \u001b[0m\u001b[38;5;34m242\u001b[0m (968.00 B)\n"
      ]
     },
     "metadata": {},
     "output_type": "display_data"
    },
    {
     "data": {
      "text/html": [
       "<pre style=\"white-space:pre;overflow-x:auto;line-height:normal;font-family:Menlo,'DejaVu Sans Mono',consolas,'Courier New',monospace\"><span style=\"font-weight: bold\"> Trainable params: </span><span style=\"color: #00af00; text-decoration-color: #00af00\">242</span> (968.00 B)\n",
       "</pre>\n"
      ],
      "text/plain": [
       "\u001b[1m Trainable params: \u001b[0m\u001b[38;5;34m242\u001b[0m (968.00 B)\n"
      ]
     },
     "metadata": {},
     "output_type": "display_data"
    },
    {
     "data": {
      "text/html": [
       "<pre style=\"white-space:pre;overflow-x:auto;line-height:normal;font-family:Menlo,'DejaVu Sans Mono',consolas,'Courier New',monospace\"><span style=\"font-weight: bold\"> Non-trainable params: </span><span style=\"color: #00af00; text-decoration-color: #00af00\">0</span> (0.00 B)\n",
       "</pre>\n"
      ],
      "text/plain": [
       "\u001b[1m Non-trainable params: \u001b[0m\u001b[38;5;34m0\u001b[0m (0.00 B)\n"
      ]
     },
     "metadata": {},
     "output_type": "display_data"
    }
   ],
   "source": [
    "from sklearn.model_selection import train_test_split\n",
    "from keras import Sequential, layers, losses\n",
    "import keras_tuner\n",
    "\n",
    "\n",
    "data = pd.read_csv(\"ProcessedData.csv\")\n",
    "\n",
    "# Splitting data into training and testing set\n",
    "x = data.drop(columns=[\"stroke\"])\n",
    "y = data[\"stroke\"]\n",
    "x_train, x_test, y_train, y_test = train_test_split(x, y, test_size=0.2, random_state=27)\n",
    "x_train, x_val, y_train, y_val = train_test_split(x_train, y_train, test_size=0.2, random_state=27)\n",
    "\n",
    "\n",
    "def nnModel(hp):\n",
    "  model = Sequential()\n",
    "  model.add(layers.Input(shape=(12,)))\n",
    "  \n",
    "  # Hidden layers\n",
    "  for i in range(hp.Int('num_layers', 1, 2)):\n",
    "    model.add(\n",
    "      layers.Dense(\n",
    "        units=hp.Choice('units', [16, 32]), \n",
    "        activation=hp.Choice('activation', ['relu', 'tanh'])\n",
    "      )\n",
    "    )\n",
    "    \n",
    "  model.add(layers.Dense(2, \"sigmoid\"))\n",
    "  model.compile(optimizer='adam', loss=losses.SparseCategoricalCrossentropy(), metrics=['accuracy'])\n",
    "  return model\n",
    "\n",
    "# Grid search\n",
    "tuner = keras_tuner.GridSearch(\n",
    "  hypermodel=nnModel,\n",
    "  objective='val_accuracy',\n",
    "  overwrite=\"true\",\n",
    "  directory=\"neural_network\",\n",
    "  project_name=\"history\"\n",
    ")\n",
    "\n",
    "tuner.search(x_train, y_train, epochs=10, validation_data=(x_val, y_val))\n",
    "\n",
    "models = tuner.get_best_models()\n",
    "best_model = models[0]\n",
    "best_model.summary()\n",
    "\n",
    "# best_model.save('neural_network/best_model.keras')"
   ]
  },
  {
   "cell_type": "markdown",
   "metadata": {},
   "source": [
    "Comparing models:"
   ]
  },
  {
   "cell_type": "code",
   "execution_count": 8,
   "metadata": {},
   "outputs": [
    {
     "name": "stdout",
     "output_type": "stream",
     "text": [
      "Logistic Regression accuracy:  0.9636150234741784\n",
      "\u001b[1m27/27\u001b[0m \u001b[32m━━━━━━━━━━━━━━━━━━━━\u001b[0m\u001b[37m\u001b[0m \u001b[1m0s\u001b[0m 1ms/step \n",
      "Neural Network accuracy:  0.9636150234741784\n"
     ]
    },
    {
     "name": "stderr",
     "output_type": "stream",
     "text": [
      "c:\\Users\\locng\\AppData\\Local\\Programs\\Python\\Python312\\Lib\\site-packages\\keras\\src\\saving\\saving_lib.py:719: UserWarning: Skipping variable loading for optimizer 'adam', because it has 10 variables whereas the saved optimizer has 2 variables. \n",
      "  saveable.load_own_variables(weights_store.get(inner_path))\n"
     ]
    }
   ],
   "source": [
    "from sklearn.linear_model import LogisticRegression\n",
    "from sklearn.metrics import accuracy_score\n",
    "import keras\n",
    "\n",
    "\n",
    "data = pd.read_csv(\"ProcessedData.csv\")\n",
    "\n",
    "# Splitting data into training and testing set\n",
    "x = data.drop(columns=[\"stroke\"])\n",
    "y = data[\"stroke\"]\n",
    "x_train, x_test, y_train, y_test = train_test_split(x, y, test_size=0.2, random_state=27)\n",
    "x_train, x_val, y_train, y_val = train_test_split(x_train, y_train, test_size=0.2, random_state=27)\n",
    "\n",
    "\n",
    "# Logistic Regression model\n",
    "lr = LogisticRegression()\n",
    "lr.fit(x_train, y_train)\n",
    "y_pred = lr.predict(x_test)\n",
    "print(\"Logistic Regression accuracy: \", accuracy_score(y_test, y_pred))\n",
    "\n",
    "\n",
    "# Neural network model\n",
    "nn: Sequential = keras.models.load_model('neural_network/best_model.keras')\n",
    "y_pred = nn.predict(x_test)\n",
    "y_pred = np.argmax(y_pred, axis=1)\n",
    "print(\"Neural Network accuracy: \", accuracy_score(y_test, y_pred))"
   ]
  }
 ],
 "metadata": {
  "kernelspec": {
   "display_name": "Python 3",
   "language": "python",
   "name": "python3"
  },
  "language_info": {
   "codemirror_mode": {
    "name": "ipython",
    "version": 3
   },
   "file_extension": ".py",
   "mimetype": "text/x-python",
   "name": "python",
   "nbconvert_exporter": "python",
   "pygments_lexer": "ipython3",
   "version": "3.12.1"
  }
 },
 "nbformat": 4,
 "nbformat_minor": 2
}
